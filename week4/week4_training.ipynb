{
 "cells": [
  {
   "cell_type": "markdown",
   "metadata": {},
   "source": [
    "<center>\n",
    "<img src=\"https://habrastorage.org/web/677/8e1/337/6778e1337c3d4b159d7e99df94227cb2.jpg\"/>\n",
    "## Специализация \"Машинное обучение и анализ данных\"\n",
    "<center>Автор материала: программист-исследователь Mail.Ru Group, старший преподаватель Факультета Компьютерных Наук ВШЭ [Юрий Кашницкий](https://yorko.github.io/)"
   ]
  },
  {
   "cell_type": "markdown",
   "metadata": {},
   "source": [
    "# <center> Capstone проект №1 <br> Идентификация пользователей по посещенным веб-страницам\n",
    "<img src='http://i.istockimg.com/file_thumbview_approve/21546327/5/stock-illustration-21546327-identification-de-l-utilisateur.jpg'>\n",
    "\n",
    "# <center>Неделя 4.  Сравнение алгоритмов классификации\n",
    "\n",
    "Теперь мы наконец подойдем к обучению моделей классификации, сравним на кросс-валидации несколько алгоритмов, разберемся, какие параметры длины сессии (*session_length* и *window_size*) лучше использовать. Также для выбранного алгоритма построим кривые валидации (как качество классификации зависит от одного из гиперпараметров алгоритма) и кривые обучения (как качество классификации зависит от объема выборки).\n",
    "\n",
    "**План 4 недели:**\n",
    "- Часть 1. Сравнение нескольких алгоритмов на сессиях из 10 сайтов\n",
    "- Часть 2. Выбор параметров – длины сессии и ширины окна\n",
    "- Часть 3. Идентификация  конкретного пользователя и кривые обучения\n",
    " \n",
    "\n",
    "\n",
    "**В этой части проекта Вам могут быть полезны видеозаписи следующих лекций курса \"Обучение на размеченных данных\":**\n",
    "   - [Линейная классификация](https://www.coursera.org/learn/supervised-learning/lecture/jqLcO/linieinaia-klassifikatsiia)\n",
    "   - [Сравнение алгоритмов и выбор гиперпараметров](https://www.coursera.org/learn/supervised-learning/lecture/aF79U/sravnieniie-alghoritmov-i-vybor-ghipierparamietrov)\n",
    "   - [Кросс-валидация. Sklearn.cross_validation](https://www.coursera.org/learn/supervised-learning/lecture/XbHEk/kross-validatsiia-sklearn-cross-validation)\n",
    "   - [Линейные модели. Sklearn.linear_model. Классификация](https://www.coursera.org/learn/supervised-learning/lecture/EBg9t/linieinyie-modieli-sklearn-linear-model-klassifikatsiia)\n",
    "   - и многие другие\n"
   ]
  },
  {
   "cell_type": "markdown",
   "metadata": {},
   "source": [
    "### Задание\n",
    "1. Заполните код в этой тетрадке \n",
    "2. Если вы проходите специализацию Яндеса и МФТИ, пошлите файл с ответами в соответствующем Programming Assignment. <br> Если вы проходите курс ODS, выберите ответы в [веб-форме](https://docs.google.com/forms/d/12VB7kmzDoSVzSpQNaJp0tR-2t8K8PynQopP3dypf7i4).  "
   ]
  },
  {
   "cell_type": "code",
   "execution_count": 1,
   "metadata": {
    "collapsed": true
   },
   "outputs": [],
   "source": [
    "# pip install watermark\n",
    "%load_ext watermark"
   ]
  },
  {
   "cell_type": "code",
   "execution_count": 2,
   "metadata": {},
   "outputs": [
    {
     "name": "stdout",
     "output_type": "stream",
     "text": [
      "CPython 3.6.1\n",
      "IPython 5.3.0\n",
      "\n",
      "numpy 1.13.3\n",
      "scipy 0.19.0\n",
      "pandas 0.20.1\n",
      "matplotlib 2.1.0\n",
      "statsmodels 0.8.0\n",
      "sklearn 0.19.0\n",
      "\n",
      "compiler   : GCC 4.2.1 Compatible Apple LLVM 6.0 (clang-600.0.57)\n",
      "system     : Darwin\n",
      "release    : 16.7.0\n",
      "machine    : x86_64\n",
      "processor  : i386\n",
      "CPU cores  : 8\n",
      "interpreter: 64bit\n",
      "Git hash   : ca8e6e4e47061a4c44a8506c9741b1c65fc9249a\n"
     ]
    }
   ],
   "source": [
    "%watermark -v -m -p numpy,scipy,pandas,matplotlib,statsmodels,sklearn -g"
   ]
  },
  {
   "cell_type": "code",
   "execution_count": 1,
   "metadata": {},
   "outputs": [],
   "source": [
    "from __future__ import division, print_function\n",
    "# отключим всякие предупреждения Anaconda\n",
    "import warnings\n",
    "warnings.filterwarnings('ignore')\n",
    "from time import time\n",
    "import itertools\n",
    "import os\n",
    "import numpy as np\n",
    "import pandas as pd\n",
    "import seaborn as sns\n",
    "%matplotlib inline\n",
    "from matplotlib import pyplot as plt\n",
    "import pickle\n",
    "from scipy.sparse import csr_matrix\n",
    "from sklearn.model_selection import train_test_split, cross_val_score, StratifiedKFold, GridSearchCV\n",
    "from sklearn.metrics import accuracy_score, f1_score"
   ]
  },
  {
   "cell_type": "code",
   "execution_count": 2,
   "metadata": {},
   "outputs": [],
   "source": [
    "# Поменяйте на свой путь к данным\n",
    "PATH_TO_DATA = '/home/kris/Документы/user_identification'"
   ]
  },
  {
   "cell_type": "markdown",
   "metadata": {},
   "source": [
    "## Часть 1. Сравнение нескольких алгоритмов на сессиях из 10 сайтов"
   ]
  },
  {
   "cell_type": "markdown",
   "metadata": {},
   "source": [
    "**Загрузим сериализованные ранее объекты *X_sparse_10users* и *y_10users*, соответствующие обучающей выборке для 10 пользователей.**"
   ]
  },
  {
   "cell_type": "code",
   "execution_count": 3,
   "metadata": {},
   "outputs": [],
   "source": [
    "with open(os.path.join(PATH_TO_DATA, \n",
    "         'week1/files/X_sparse_10users.pkl'), 'rb') as X_sparse_10users_pkl:\n",
    "    X_sparse_10users = pickle.load(X_sparse_10users_pkl)\n",
    "with open(os.path.join(PATH_TO_DATA, \n",
    "                       'week1/files/y_10users.pkl'), 'rb') as y_10users_pkl:\n",
    "    y_10users = pickle.load(y_10users_pkl)"
   ]
  },
  {
   "cell_type": "markdown",
   "metadata": {},
   "source": [
    "**Здесь более 14 тысяч сессий и почти 5 тысяч уникальных посещенных сайтов.**"
   ]
  },
  {
   "cell_type": "code",
   "execution_count": 4,
   "metadata": {},
   "outputs": [
    {
     "data": {
      "text/plain": [
       "(14061, 4913)"
      ]
     },
     "execution_count": 4,
     "metadata": {},
     "output_type": "execute_result"
    }
   ],
   "source": [
    "X_sparse_10users.shape"
   ]
  },
  {
   "cell_type": "markdown",
   "metadata": {},
   "source": [
    "**Разобьем выборку на 2 части. На одной будем проводить кросс-валидацию, на второй – оценивать модель, обученную после кросс-валидации.**"
   ]
  },
  {
   "cell_type": "code",
   "execution_count": 5,
   "metadata": {},
   "outputs": [],
   "source": [
    "X_train, X_valid, y_train, y_valid = train_test_split(X_sparse_10users, y_10users, \n",
    "                                                      test_size=0.3, \n",
    "                                                     random_state=17, stratify=y_10users)"
   ]
  },
  {
   "cell_type": "markdown",
   "metadata": {},
   "source": [
    "**Зададим заранее тип кросс-валидации: 3-кратная, с перемешиванием, параметр random_state=17 – для воспроизводимости.**"
   ]
  },
  {
   "cell_type": "code",
   "execution_count": 6,
   "metadata": {},
   "outputs": [],
   "source": [
    "skf = StratifiedKFold(n_splits=3, shuffle=True, random_state=17)"
   ]
  },
  {
   "cell_type": "markdown",
   "metadata": {},
   "source": [
    "**Вспомогательная функция для отрисовки кривых валидации после запуска GridSearchCV (или RandomizedCV).**"
   ]
  },
  {
   "cell_type": "code",
   "execution_count": 43,
   "metadata": {},
   "outputs": [],
   "source": [
    "def plot_validation_curves(param_values, grid_cv_results_):\n",
    "    train_mu, train_std = grid_cv_results_['mean_train_score'], grid_cv_results_['std_train_score']\n",
    "    valid_mu, valid_std = grid_cv_results_['mean_test_score'], grid_cv_results_['std_test_score']\n",
    "    train_line = plt.plot(param_values, train_mu, '-', label='train', color='green')\n",
    "    valid_line = plt.plot(param_values, valid_mu, '-', label='test', color='red')\n",
    "    plt.fill_between(param_values, train_mu - train_std, train_mu + train_std, edgecolor='none',\n",
    "                     facecolor=train_line[0].get_color(), alpha=0.2)\n",
    "    plt.fill_between(param_values, valid_mu - valid_std, valid_mu + valid_std, edgecolor='none',\n",
    "                     facecolor=valid_line[0].get_color(), alpha=0.2)\n",
    "    plt.title('График зависимости доли правильных ответов на кросс-валидации от C',fontsize = 12, fontweight = 'bold')\n",
    "    plt.xlabel('C', fontsize = 12)\n",
    "    plt.ylabel('Доля правильных ответов', fontsize = 12)\n",
    "    plt.legend()"
   ]
  },
  {
   "cell_type": "markdown",
   "metadata": {},
   "source": [
    "**1. Обучите `KNeighborsClassifier` со 100 ближайшими соседями (остальные параметры оставьте по умолчанию, только `n_jobs`=-1 для распараллеливания) и посмотрите на долю правильных ответов на 3-кратной кросс-валидации (ради воспроизводимости используйте для этого объект `StratifiedKFold` `skf`) по выборке `(X_train, y_train)` и отдельно на выборке `(X_valid, y_valid)`.**"
   ]
  },
  {
   "cell_type": "code",
   "execution_count": 9,
   "metadata": {},
   "outputs": [],
   "source": [
    "from sklearn.neighbors import KNeighborsClassifier\n",
    "from sklearn.metrics import accuracy_score"
   ]
  },
  {
   "cell_type": "code",
   "execution_count": 10,
   "metadata": {},
   "outputs": [],
   "source": [
    "knn = KNeighborsClassifier(n_neighbors=100)\n",
    "knn_cv_scores = cross_val_score(knn, X_train, y_train, cv=skf, scoring='accuracy').mean()\n",
    "knn.fit(X_train, y_train)\n",
    "knn_valid = accuracy_score(y_valid,knn.predict(X_valid))"
   ]
  },
  {
   "cell_type": "code",
   "execution_count": 11,
   "metadata": {},
   "outputs": [
    {
     "name": "stdout",
     "output_type": "stream",
     "text": [
      "Доля правильных ответов на 3-кратной кросс-валидации: 0.559337 и на отложенной выборке: 0.584025\n"
     ]
    }
   ],
   "source": [
    "print('Доля правильных ответов на 3-кратной кросс-валидации: %f и на отложенной выборке: %f' % (knn_cv_scores, knn_valid))"
   ]
  },
  {
   "cell_type": "markdown",
   "metadata": {},
   "source": [
    "**<font color='red'>Вопрос 1. </font> Посчитайте доли правильных ответов для KNeighborsClassifier на кросс-валидации и отложенной выборке. Округлите каждое до 3 знаков после запятой и введите через пробел.**"
   ]
  },
  {
   "cell_type": "code",
   "execution_count": 12,
   "metadata": {},
   "outputs": [],
   "source": [
    "with open('answers/answer4_1', 'w') as f:\n",
    "    ans = str(round(knn_cv_scores, 3)) + ' ' + str(round(knn_valid, 3))\n",
    "    f.write(ans)"
   ]
  },
  {
   "cell_type": "markdown",
   "metadata": {},
   "source": [
    "**2. Обучите случайный лес (`RandomForestClassifier`) из 100 деревьев (для воспроизводимости `random_state`=17). Посмотрите на OOB-оценку (для этого надо сразу установить `oob_score`=True) и на долю правильных ответов на выборке `(X_valid, y_valid)`. Для распараллеливания задайте `n_jobs`=-1.**"
   ]
  },
  {
   "cell_type": "code",
   "execution_count": 13,
   "metadata": {},
   "outputs": [],
   "source": [
    "from sklearn.ensemble import RandomForestClassifier"
   ]
  },
  {
   "cell_type": "code",
   "execution_count": 14,
   "metadata": {},
   "outputs": [],
   "source": [
    "forest = RandomForestClassifier(n_estimators=100, random_state=17, oob_score=True)\n",
    "forest.fit(X_train, y_train)\n",
    "oob_score = forest.oob_score_\n",
    "forest_valid = accuracy_score(y_valid,forest.predict(X_valid))"
   ]
  },
  {
   "cell_type": "code",
   "execution_count": 15,
   "metadata": {},
   "outputs": [
    {
     "name": "stdout",
     "output_type": "stream",
     "text": [
      "Доля правильных ответов при Out-of-Bag оценке: 0.719874 и на отложенной выборке: 0.732164\n"
     ]
    }
   ],
   "source": [
    "print('Доля правильных ответов при Out-of-Bag оценке: %f и на отложенной выборке: %f' % (oob_score, forest_valid))"
   ]
  },
  {
   "cell_type": "markdown",
   "metadata": {},
   "source": [
    "**<font color='red'>Вопрос 2. </font> Посчитайте доли правильных ответов для `RandomForestClassifier` при Out-of-Bag оценке и на отложенной выборке. Округлите каждое до 3 знаков после запятой и введите через пробел.**"
   ]
  },
  {
   "cell_type": "code",
   "execution_count": 28,
   "metadata": {},
   "outputs": [],
   "source": [
    "with open('answers/answer4_2', 'w') as f:\n",
    "    ans = str(round(oob_score, 3)) + ' ' + str(round(forest_valid, 3))\n",
    "    f.write(ans)"
   ]
  },
  {
   "cell_type": "markdown",
   "metadata": {},
   "source": [
    "**3. Обучите логистическую регрессию (`LogisticRegression`) с параметром `C` по умолчанию и `random_state`=17 (для воспроизводимости). Посмотрите на долю правильных ответов на кросс-валидации (используйте объект `skf`, созданный ранее) и на выборке `(X_valid, y_valid)`. Для распараллеливания задайте `n_jobs=-1`.**"
   ]
  },
  {
   "cell_type": "code",
   "execution_count": 16,
   "metadata": {},
   "outputs": [],
   "source": [
    "from sklearn.linear_model import LogisticRegression, LogisticRegressionCV"
   ]
  },
  {
   "cell_type": "code",
   "execution_count": 17,
   "metadata": {},
   "outputs": [],
   "source": [
    "logit = LogisticRegression(random_state=17)\n",
    "logit_cv_scores = cross_val_score(logit, X_train, y_train, cv=skf, scoring='accuracy').mean()\n",
    "logit.fit(X_train, y_train)\n",
    "logit_valid = accuracy_score(y_valid, logit.predict(X_valid))"
   ]
  },
  {
   "cell_type": "code",
   "execution_count": 18,
   "metadata": {},
   "outputs": [
    {
     "name": "stdout",
     "output_type": "stream",
     "text": [
      "Доля правильных ответов на кросс-валидации: 0.760619 и на отложенной выборке: 0.776724\n"
     ]
    }
   ],
   "source": [
    "print('Доля правильных ответов на кросс-валидации: %f и на отложенной выборке: %f' % (logit_cv_scores, logit_valid))"
   ]
  },
  {
   "cell_type": "markdown",
   "metadata": {},
   "source": [
    "**Почитайте документацию к [LogisticRegressionCV](http://scikit-learn.org/stable/modules/generated/sklearn.linear_model.LogisticRegressionCV.html). Логистическая регрессия хорошо изучена, и для нее существуют алгоритмы быстрого подбора параметра регуляризации `C` (быстрее, чем с `GridSearchCV`).**\n",
    "\n",
    "**С помощью `LogisticRegressionCV` подберите параметр `C` для `LogisticRegression` сначала в широком диапазоне: 10 значений от 1e-4 до 1e2, используйте `logspace` из `NumPy`. Укажите у `LogisticRegressionCV` параметры `multi_class`='multinomial' и `random_state`=17. Для кросс-валидации используйте объект `skf`, созданный ранее. Для распараллеливания задайте `n_jobs=-1`.**\n",
    "\n",
    "**Нарисуйте кривые валидации по параметру `C`.**"
   ]
  },
  {
   "cell_type": "code",
   "execution_count": 19,
   "metadata": {},
   "outputs": [
    {
     "name": "stdout",
     "output_type": "stream",
     "text": [
      "CPU times: user 2min 44s, sys: 2.68 s, total: 2min 47s\n",
      "Wall time: 42.6 s\n"
     ]
    },
    {
     "data": {
      "text/plain": [
       "LogisticRegressionCV(Cs=array([1.00000000e-04, 4.64158883e-04, 2.15443469e-03, 1.00000000e-02,\n",
       "       4.64158883e-02, 2.15443469e-01, 1.00000000e+00, 4.64158883e+00,\n",
       "       2.15443469e+01, 1.00000000e+02]),\n",
       "                     class_weight=None, cv=None, dual=False, fit_intercept=True,\n",
       "                     intercept_scaling=1.0, l1_ratios=None, max_iter=100,\n",
       "                     multi_class='multinomial', n_jobs=None, penalty='l2',\n",
       "                     random_state=17, refit=True, scoring=None, solver='lbfgs',\n",
       "                     tol=0.0001, verbose=0)"
      ]
     },
     "execution_count": 19,
     "metadata": {},
     "output_type": "execute_result"
    }
   ],
   "source": [
    "%%time\n",
    "logit_c_values1 = np.logspace(-4, 2, 10)\n",
    "\n",
    "logit_grid_searcher1 = LogisticRegressionCV(Cs=logit_c_values1, multi_class='multinomial', random_state=17)\n",
    "logit_grid_searcher1.fit(X_train, y_train)"
   ]
  },
  {
   "cell_type": "code",
   "execution_count": 20,
   "metadata": {},
   "outputs": [
    {
     "name": "stdout",
     "output_type": "stream",
     "text": [
      "[0.37421192 0.47917038 0.56228354 0.65921514 0.72678354 0.75675733\n",
      " 0.76783199 0.76447869 0.76010944 0.74761187]\n"
     ]
    }
   ],
   "source": [
    "logit_mean_cv_scores1 = np.mean(list(logit_grid_searcher1.scores_.values())[0],axis=0)\n",
    "print(logit_mean_cv_scores1)"
   ]
  },
  {
   "cell_type": "code",
   "execution_count": 21,
   "metadata": {},
   "outputs": [
    {
     "name": "stdout",
     "output_type": "stream",
     "text": [
      "Лучшее значение доли правильных ответов на кросс-валидации:  0.7678319852015179 и соответствующее C:  1.0\n"
     ]
    }
   ],
   "source": [
    "print('Лучшее значение доли правильных ответов на кросс-валидации: ',max(logit_mean_cv_scores1),'и соответствующее C: ',logit_c_values1[list(logit_mean_cv_scores1).index(max(logit_mean_cv_scores1))])"
   ]
  },
  {
   "cell_type": "markdown",
   "metadata": {},
   "source": [
    "Нарисуйте график зависимости доли правильных ответов на кросс-валидации от `C`."
   ]
  },
  {
   "cell_type": "code",
   "execution_count": 22,
   "metadata": {},
   "outputs": [
    {
     "data": {
      "image/png": "[encoded data removed]",
      "text/plain": [
       "<Figure size 432x288 with 1 Axes>"
      ]
     },
     "metadata": {
      "needs_background": "light"
     },
     "output_type": "display_data"
    }
   ],
   "source": [
    "plt.plot(logit_c_values1, logit_mean_cv_scores1)\n",
    "plt.title('График зависимости доли правильных ответов на кросс-валидации от C',fontsize = 12, fontweight = 'bold')\n",
    "plt.xlabel('C', fontsize = 12)\n",
    "plt.ylabel('Доля правильных ответов', fontsize = 12)\n",
    "plt.show()"
   ]
  },
  {
   "cell_type": "markdown",
   "metadata": {},
   "source": [
    "**Теперь то же самое, только значения параметра `C` перебирайте в диапазоне `np.linspace`(0.1, 7, 20). Опять нарисуйте кривые валидации, определите максимальное значение доли правильных ответов на кросс-валидации.**"
   ]
  },
  {
   "cell_type": "code",
   "execution_count": 23,
   "metadata": {},
   "outputs": [
    {
     "name": "stdout",
     "output_type": "stream",
     "text": [
      "CPU times: user 8min 22s, sys: 6.68 s, total: 8min 28s\n",
      "Wall time: 2min 8s\n"
     ]
    },
    {
     "data": {
      "text/plain": [
       "LogisticRegressionCV(Cs=array([0.1       , 0.46315789, 0.82631579, 1.18947368, 1.55263158,\n",
       "       1.91578947, 2.27894737, 2.64210526, 3.00526316, 3.36842105,\n",
       "       3.73157895, 4.09473684, 4.45789474, 4.82105263, 5.18421053,\n",
       "       5.54736842, 5.91052632, 6.27368421, 6.63684211, 7.        ]),\n",
       "                     class_weight=None, cv=None, dual=False, fit_intercept=True,\n",
       "                     intercept_scaling=1.0, l1_ratios=None, max_iter=100,\n",
       "                     multi_class='multinomial', n_jobs=None, penalty='l2',\n",
       "                     random_state=17, refit=True, scoring=None, solver='lbfgs',\n",
       "                     tol=0.0001, verbose=0)"
      ]
     },
     "execution_count": 23,
     "metadata": {},
     "output_type": "execute_result"
    }
   ],
   "source": [
    "%%time\n",
    "logit_c_values2 = np.linspace(0.1, 7, 20)\n",
    "\n",
    "logit_grid_searcher2 = LogisticRegressionCV(Cs=logit_c_values2, multi_class='multinomial', random_state=17)\n",
    "logit_grid_searcher2.fit(X_train, y_train)"
   ]
  },
  {
   "cell_type": "markdown",
   "metadata": {},
   "source": [
    "Средние значения доли правильных ответов на кросс-валидации по каждому из 10 параметров `C`."
   ]
  },
  {
   "cell_type": "code",
   "execution_count": 24,
   "metadata": {},
   "outputs": [
    {
     "name": "stdout",
     "output_type": "stream",
     "text": [
      "[0.7442595  0.76549536 0.76823875 0.76783219 0.76773062 0.76630842\n",
      " 0.76610527 0.76569866 0.76498702 0.76508844 0.76417396 0.76478351\n",
      " 0.76407218 0.76366568 0.76346248 0.76285288 0.76295445 0.76244653\n",
      " 0.7619384  0.76203992]\n"
     ]
    }
   ],
   "source": [
    "logit_mean_cv_scores2 = np.mean(list(logit_grid_searcher2.scores_.values())[0],axis=0)\n",
    "print(logit_mean_cv_scores2)"
   ]
  },
  {
   "cell_type": "markdown",
   "metadata": {},
   "source": [
    "Выведите лучшее значение доли правильных ответов на кросс-валидации и соответствующее значение `C`."
   ]
  },
  {
   "cell_type": "code",
   "execution_count": 25,
   "metadata": {},
   "outputs": [
    {
     "name": "stdout",
     "output_type": "stream",
     "text": [
      "Лучшее значение доли правильных ответов на кросс-валидации:  0.7682387473316072 и соответствующее C:  0.8263157894736842\n"
     ]
    }
   ],
   "source": [
    "print('Лучшее значение доли правильных ответов на кросс-валидации: ', max(logit_mean_cv_scores2),'и соответствующее C: ',logit_c_values2[list(logit_mean_cv_scores2).index(max(logit_mean_cv_scores2))])"
   ]
  },
  {
   "cell_type": "markdown",
   "metadata": {},
   "source": [
    "Нарисуйте график зависимости доли правильных ответов на кросс-валидации от `C`."
   ]
  },
  {
   "cell_type": "code",
   "execution_count": 26,
   "metadata": {},
   "outputs": [
    {
     "data": {
      "image/png": "[encoded data removed]",
      "text/plain": [
       "<Figure size 432x288 with 1 Axes>"
      ]
     },
     "metadata": {
      "needs_background": "light"
     },
     "output_type": "display_data"
    }
   ],
   "source": [
    "plt.plot(logit_c_values2, logit_mean_cv_scores2)\n",
    "plt.title('График зависимости доли правильных ответов на кросс-валидации от C',fontsize = 12, fontweight = 'bold')\n",
    "plt.xlabel('C', fontsize = 12)\n",
    "plt.ylabel('Доля правильных ответов', fontsize = 12)\n",
    "plt.show()"
   ]
  },
  {
   "cell_type": "markdown",
   "metadata": {},
   "source": [
    "Выведите долю правильных ответов на выборке `(X_valid, y_valid)` для логистической регрессии с лучшим найденным значением `C`."
   ]
  },
  {
   "cell_type": "code",
   "execution_count": 27,
   "metadata": {},
   "outputs": [
    {
     "name": "stdout",
     "output_type": "stream",
     "text": [
      "Доля правильных ответов на отложенной выборке при С=3: 0.775065\n"
     ]
    }
   ],
   "source": [
    "logit = LogisticRegression(C=logit_c_values2[list(logit_mean_cv_scores2).index(max(logit_mean_cv_scores2))], random_state=17)\n",
    "logit.fit(X_train,y_train)\n",
    "logit_valid = accuracy_score(y_valid, logit_grid_searcher2.predict(X_valid))  \n",
    "print('Доля правильных ответов на отложенной выборке при С=3: %f' % logit_valid)"
   ]
  },
  {
   "cell_type": "markdown",
   "metadata": {},
   "source": [
    "**<font color='red'>Вопрос 3. </font>Посчитайте доли правильных ответов для `logit_grid_searcher2` на кросс-валидации для лучшего значения параметра `C` и на отложенной выборке. Округлите каждое до 3 знаков после запятой и выведите через пробел.**"
   ]
  },
  {
   "cell_type": "code",
   "execution_count": 35,
   "metadata": {},
   "outputs": [],
   "source": [
    "with open('answers/answer4_3.txt', 'w') as f:\n",
    "    ans = str(round(max(logit_mean_cv_scores2), 3)) + ' ' + str(round(logit_valid, 3))\n",
    "    f.write(ans)"
   ]
  },
  {
   "cell_type": "markdown",
   "metadata": {},
   "source": [
    "**4. Обучите линейный SVM (`LinearSVC`) с параметром `C`=1 и `random_state`=17 (для воспроизводимости). Посмотрите на долю правильных ответов на кросс-валидации (используйте объект `skf`, созданный ранее) и на выборке `(X_valid, y_valid)`.**"
   ]
  },
  {
   "cell_type": "code",
   "execution_count": 36,
   "metadata": {},
   "outputs": [],
   "source": [
    "from sklearn.svm import LinearSVC"
   ]
  },
  {
   "cell_type": "code",
   "execution_count": 37,
   "metadata": {},
   "outputs": [],
   "source": [
    "svm = LinearSVC(C=1, random_state=17)\n",
    "svm_cv_scores = cross_val_score(svm, X_train, y_train, cv=skf, scoring='accuracy').mean()\n",
    "svm.fit(X_train, y_train)\n",
    "svm_valid = svm.score(X_valid,y_valid)"
   ]
  },
  {
   "cell_type": "code",
   "execution_count": 38,
   "metadata": {},
   "outputs": [
    {
     "name": "stdout",
     "output_type": "stream",
     "text": [
      "Доля правильных ответов на 3-кратной кросс-валидации: 0.750866 и на отложенной выборке: 0.776961\n"
     ]
    }
   ],
   "source": [
    "print('Доля правильных ответов на 3-кратной кросс-валидации: %f и на отложенной выборке: %f' % (svm_cv_scores, svm_valid))"
   ]
  },
  {
   "cell_type": "markdown",
   "metadata": {},
   "source": [
    "**С помощью `GridSearchCV` подберите параметр `C` для SVM сначала в широком диапазоне: 10 значений от 1e-4 до 1e4, используйте `linspace` из NumPy. Нарисуйте кривые валидации.**"
   ]
  },
  {
   "cell_type": "code",
   "execution_count": 39,
   "metadata": {},
   "outputs": [
    {
     "name": "stdout",
     "output_type": "stream",
     "text": [
      "CPU times: user 44.1 s, sys: 4 ms, total: 44.1 s\n",
      "Wall time: 44.1 s\n"
     ]
    },
    {
     "data": {
      "text/plain": [
       "GridSearchCV(cv=StratifiedKFold(n_splits=3, random_state=17, shuffle=True),\n",
       "             error_score=nan,\n",
       "             estimator=LinearSVC(C=1, class_weight=None, dual=True,\n",
       "                                 fit_intercept=True, intercept_scaling=1,\n",
       "                                 loss='squared_hinge', max_iter=1000,\n",
       "                                 multi_class='ovr', penalty='l2',\n",
       "                                 random_state=17, tol=0.0001, verbose=0),\n",
       "             iid='deprecated', n_jobs=None,\n",
       "             param_grid={'C': array([1.0000000e-04, 1.1111112e+03, 2.2222223e+03, 3.3333334e+03,\n",
       "       4.4444445e+03, 5.5555556e+03, 6.6666667e+03, 7.7777778e+03,\n",
       "       8.8888889e+03, 1.0000000e+04])},\n",
       "             pre_dispatch='2*n_jobs', refit=True, return_train_score=True,\n",
       "             scoring=None, verbose=0)"
      ]
     },
     "execution_count": 39,
     "metadata": {},
     "output_type": "execute_result"
    }
   ],
   "source": [
    "%%time\n",
    "svm_params1 = {'C': np.linspace(1e-4, 1e4, 10)}\n",
    "\n",
    "svm_grid_searcher1 = GridSearchCV(svm, svm_params1, cv=skf, return_train_score=True)\n",
    "svm_grid_searcher1.fit(X_train, y_train)"
   ]
  },
  {
   "cell_type": "markdown",
   "metadata": {},
   "source": [
    "Выведите лучшее значение доли правильных ответов на кросс-валидации и соответствующее значение `C`."
   ]
  },
  {
   "cell_type": "code",
   "execution_count": 41,
   "metadata": {},
   "outputs": [
    {
     "name": "stdout",
     "output_type": "stream",
     "text": [
      "Лучшее значение доли правильных ответов на кросс-валидации: 0.686855\n"
     ]
    }
   ],
   "source": [
    "print('Лучшее значение доли правильных ответов на кросс-валидации: %f' % svm_grid_searcher1.best_score_)"
   ]
  },
  {
   "cell_type": "code",
   "execution_count": 42,
   "metadata": {},
   "outputs": [
    {
     "data": {
      "text/plain": [
       "{'C': 2222.2223000000004}"
      ]
     },
     "execution_count": 42,
     "metadata": {},
     "output_type": "execute_result"
    }
   ],
   "source": [
    "svm_grid_searcher1.best_params_"
   ]
  },
  {
   "cell_type": "markdown",
   "metadata": {},
   "source": [
    "Нарисуйте график зависимости доли правильных ответов на кросс-валидации от `C`."
   ]
  },
  {
   "cell_type": "code",
   "execution_count": 44,
   "metadata": {},
   "outputs": [
    {
     "data": {
      "image/png": "[encoded data removed]",
      "text/plain": [
       "<Figure size 432x288 with 1 Axes>"
      ]
     },
     "metadata": {
      "needs_background": "light"
     },
     "output_type": "display_data"
    }
   ],
   "source": [
    "plot_validation_curves(svm_params1['C'], svm_grid_searcher1.cv_results_)"
   ]
  },
  {
   "cell_type": "markdown",
   "metadata": {},
   "source": [
    "**Но мы помним, что с параметром регуляризации по умолчанию (С=1) на кросс-валидации доля правильных ответов выше. Это тот случай (не редкий), когда можно ошибиться и перебирать параметры не в том диапазоне (причина в том, что мы взяли равномерную сетку на большом интервале и упустили действительно хороший интервал значений `C`). Здесь намного осмысленней подбирать `C` в районе 1, к тому же, так модель быстрее обучается, чем при больших `C`. **\n",
    "\n",
    "**С помощью `GridSearchCV` подберите параметр `C` для SVM в диапазоне (1e-3, 1), 30 значений, используйте `linspace` из NumPy. Нарисуйте кривые валидации.**"
   ]
  },
  {
   "cell_type": "code",
   "execution_count": 45,
   "metadata": {},
   "outputs": [
    {
     "name": "stdout",
     "output_type": "stream",
     "text": [
      "CPU times: user 1min 23s, sys: 0 ns, total: 1min 23s\n",
      "Wall time: 1min 24s\n"
     ]
    },
    {
     "data": {
      "text/plain": [
       "GridSearchCV(cv=StratifiedKFold(n_splits=3, random_state=17, shuffle=True),\n",
       "             error_score=nan,\n",
       "             estimator=LinearSVC(C=1, class_weight=None, dual=True,\n",
       "                                 fit_intercept=True, intercept_scaling=1,\n",
       "                                 loss='squared_hinge', max_iter=1000,\n",
       "                                 multi_class='ovr', penalty='l2',\n",
       "                                 random_state=17, tol=0.0001, verbose=0),\n",
       "             iid='deprecated', n_jobs=None,\n",
       "             param_grid={'C': array([0.001     , 0.035448...\n",
       "       0.17324138, 0.20768966, 0.24213793, 0.27658621, 0.31103448,\n",
       "       0.34548276, 0.37993103, 0.41437931, 0.44882759, 0.48327586,\n",
       "       0.51772414, 0.55217241, 0.58662069, 0.62106897, 0.65551724,\n",
       "       0.68996552, 0.72441379, 0.75886207, 0.79331034, 0.82775862,\n",
       "       0.8622069 , 0.89665517, 0.93110345, 0.96555172, 1.        ])},\n",
       "             pre_dispatch='2*n_jobs', refit=True, return_train_score=True,\n",
       "             scoring=None, verbose=0)"
      ]
     },
     "execution_count": 45,
     "metadata": {},
     "output_type": "execute_result"
    }
   ],
   "source": [
    "%%time\n",
    "svm_params2 = {'C': np.linspace(1e-3, 1, 30)}\n",
    "\n",
    "svm_grid_searcher2 = GridSearchCV(svm, svm_params2, cv=skf, return_train_score=True)\n",
    "svm_grid_searcher2.fit(X_train, y_train)"
   ]
  },
  {
   "cell_type": "markdown",
   "metadata": {},
   "source": [
    "Выведите лучшее значение доли правильных ответов на кросс-валидации и соответствующее значение `C`."
   ]
  },
  {
   "cell_type": "code",
   "execution_count": 46,
   "metadata": {},
   "outputs": [
    {
     "name": "stdout",
     "output_type": "stream",
     "text": [
      "Лучшее значение доли правильных ответов на кросс-валидации: 0.767021\n"
     ]
    }
   ],
   "source": [
    "print('Лучшее значение доли правильных ответов на кросс-валидации: %f' % svm_grid_searcher2.best_score_)"
   ]
  },
  {
   "cell_type": "code",
   "execution_count": 47,
   "metadata": {},
   "outputs": [
    {
     "data": {
      "text/plain": [
       "{'C': 0.10434482758620689}"
      ]
     },
     "execution_count": 47,
     "metadata": {},
     "output_type": "execute_result"
    }
   ],
   "source": [
    "svm_grid_searcher2.best_params_"
   ]
  },
  {
   "cell_type": "markdown",
   "metadata": {},
   "source": [
    "Нарисуйте график зависимости доли правильных ответов на кросс-валидации от С."
   ]
  },
  {
   "cell_type": "code",
   "execution_count": 48,
   "metadata": {},
   "outputs": [
    {
     "data": {
      "image/png": "[encoded data removed]",
      "text/plain": [
       "<Figure size 432x288 with 1 Axes>"
      ]
     },
     "metadata": {
      "needs_background": "light"
     },
     "output_type": "display_data"
    }
   ],
   "source": [
    "plot_validation_curves(svm_params2['C'], svm_grid_searcher2.cv_results_)"
   ]
  },
  {
   "cell_type": "markdown",
   "metadata": {},
   "source": [
    "Выведите долю правильных ответов на выборке `(X_valid, y_valid)` для `LinearSVC` с лучшим найденным значением `C`."
   ]
  },
  {
   "cell_type": "code",
   "execution_count": 50,
   "metadata": {},
   "outputs": [],
   "source": [
    "svm = LinearSVC(C=1, random_state=17)\n",
    "svm.fit(X_train, y_train)\n",
    "svm_valid = accuracy_score(y_valid, svm_grid_searcher2.predict(X_valid))"
   ]
  },
  {
   "cell_type": "code",
   "execution_count": 51,
   "metadata": {},
   "outputs": [
    {
     "name": "stdout",
     "output_type": "stream",
     "text": [
      "Доля правильных ответов на отложенной выборке при С=0.104: 0.780754\n"
     ]
    }
   ],
   "source": [
    "print('Доля правильных ответов на отложенной выборке при С=0.104: %f' % svm_valid)"
   ]
  },
  {
   "cell_type": "markdown",
   "metadata": {},
   "source": [
    "**<font color='red'>Вопрос 4. </font> Посчитайте доли правильных ответов для `svm_grid_searcher2` на кросс-валидации для лучшего значения параметра `C` и на отложенной выборке. Округлите каждое до 3 знаков после запятой и выведите через пробел.**"
   ]
  },
  {
   "cell_type": "code",
   "execution_count": 52,
   "metadata": {},
   "outputs": [],
   "source": [
    "with open('answers/answer4_4.txt', 'w') as f:\n",
    "    ans = str(round(svm_grid_searcher2.best_score_, 3)) + ' ' + str(round(svm_valid, 3))\n",
    "    f.write(ans)"
   ]
  },
  {
   "cell_type": "markdown",
   "metadata": {},
   "source": [
    "## Часть 2. Выбор параметров – длины сессии и ширины окна"
   ]
  },
  {
   "cell_type": "markdown",
   "metadata": {},
   "source": [
    "**Возьмем `LinearSVC`, показавший лучшее качество на кросс-валидации в 1 части, и проверим его работу еще на 8 выборках для 10 пользователей (с разными сочетаниями параметров *session_length* и *window_size*). Поскольку тут уже вычислений побольше, мы не будем каждый раз заново подбирать параметр регуляризации `C`.**\n",
    "\n",
    "**Определите функцию `model_assessment`, ее документация описана ниже. Обратите внимание на все детали. Например, на то, что разбиение  выборки с `train_test_split` должно быть стратифицированным. Не теряйте нигде `random_state`.**"
   ]
  },
  {
   "cell_type": "code",
   "execution_count": 53,
   "metadata": {},
   "outputs": [],
   "source": [
    "def model_assessment(estimator, path_to_X_pickle, path_to_y_pickle, cv, random_state=17, test_size=0.3):\n",
    "    '''\n",
    "    Estimates CV-accuracy for (1 - test_size) share of (X_sparse, y) \n",
    "    loaded from path_to_X_pickle and path_to_y_pickle and holdout accuracy for (test_size) share of (X_sparse, y).\n",
    "    The split is made with stratified train_test_split with params random_state and test_size.\n",
    "    \n",
    "    :param estimator – Scikit-learn estimator (classifier or regressor)\n",
    "    :param path_to_X_pickle – path to pickled sparse X (instances and their features)\n",
    "    :param path_to_y_pickle – path to pickled y (responses)\n",
    "    :param cv – cross-validation as in cross_val_score (use StratifiedKFold here)\n",
    "    :param random_state –  for train_test_split\n",
    "    :param test_size –  for train_test_split\n",
    "    \n",
    "    :returns mean CV-accuracy for (X_train, y_train) and accuracy for (X_valid, y_valid) where (X_train, y_train)\n",
    "    and (X_valid, y_valid) are (1 - test_size) and (testsize) shares of (X_sparse, y).\n",
    "    '''\n",
    "    \n",
    "    ''' ВАШ КОД ЗДЕСЬ '''\n",
    "    with open(path_to_X_pickle, 'rb') as fp:\n",
    "        X_pickle = pickle.load(fp)\n",
    "    with open(path_to_y_pickle, 'rb') as fp:\n",
    "        y_pickle = pickle.load(fp)\n",
    "        \n",
    "    X_train, X_valid, y_train, y_valid = train_test_split(X_pickle, y_pickle, \n",
    "                                                      test_size=test_size, \n",
    "                                                     random_state=random_state, stratify=y_pickle)\n",
    "    \n",
    "    estimator.fit(X_train, y_train)\n",
    "    cv_score=cross_val_score(estimator,X_train,y_train,cv=cv).mean()\n",
    "    holdout_score = estimator.score(X_valid,y_valid)\n",
    "    \n",
    "    return cv_score, holdout_score\n",
    "    \n",
    "    \n",
    "    "
   ]
  },
  {
   "cell_type": "markdown",
   "metadata": {},
   "source": [
    "**Убедитесь, что функция работает.**"
   ]
  },
  {
   "cell_type": "code",
   "execution_count": 55,
   "metadata": {},
   "outputs": [
    {
     "data": {
      "text/plain": [
       "(0.7254849424351582, 0.7362494073020389)"
      ]
     },
     "execution_count": 55,
     "metadata": {},
     "output_type": "execute_result"
    }
   ],
   "source": [
    "model_assessment(svm_grid_searcher2.best_estimator_, \n",
    "                 os.path.join(PATH_TO_DATA, 'week2/files/X_sparse_10users_s5_w5.pkl'),\n",
    "        os.path.join(PATH_TO_DATA, 'week2/files/y_10users_s5_w5.pkl'), skf, random_state=17, test_size=0.3)"
   ]
  },
  {
   "cell_type": "markdown",
   "metadata": {},
   "source": [
    "**Примените функцию *model_assessment* для лучшего алгоритма из предыдущей части (а именно, `svm_grid_searcher2.best_estimator_`) и 9 выборок вида с разными сочетаниями параметров *session_length* и *window_size* для 10 пользователей. Выведите в цикле параметры *session_length* и *window_size*, а также результат вывода функции *model_assessment*. \n",
    "Удобно сделать так, чтоб *model_assessment* возвращала 3-им элементом время, за которое она выполнилась. На моем ноуте этот участок кода выполнился за 20 секунд. Но со 150 пользователями каждая итерация занимает уже несколько минут.**"
   ]
  },
  {
   "cell_type": "markdown",
   "metadata": {},
   "source": [
    "Здесь для удобства стоит создать копии ранее созданных pickle-файлов X_sparse_10users.pkl, X_sparse_150users.pkl, y_10users.pkl и y_150users.pkl, добавив к их названиям s10_w10, что означает длину сессии 10 и ширину окна 10. "
   ]
  },
  {
   "cell_type": "code",
   "execution_count": 56,
   "metadata": {},
   "outputs": [],
   "source": [
    "!cp $PATH_TO_DATA/week1/files/X_sparse_10users.pkl $PATH_TO_DATA/week2/files/X_sparse_10users_s10_w10.pkl \n",
    "!cp $PATH_TO_DATA/week1/files/X_sparse_150users.pkl $PATH_TO_DATA/week2/files/X_sparse_150users_s10_w10.pkl \n",
    "!cp $PATH_TO_DATA/week1/files/y_10users.pkl $PATH_TO_DATA/week2/files/y_10users_s10_w10.pkl \n",
    "!cp $PATH_TO_DATA/week1/files/y_150users.pkl $PATH_TO_DATA/week2/files/y_150users_s10_w10.pkl "
   ]
  },
  {
   "cell_type": "markdown",
   "metadata": {},
   "source": [
    "**<font color='red'>Вопрос 5. </font> Посчитайте доли правильных ответов для `LinearSVC` с настроенным параметром `C` и выборки `X_sparse_10users_s15_w5`. Укажите доли правильных ответов на кросс-валидации и на отложенной выборке. Округлите каждое до 3 знаков после запятой и выведите через пробел.**"
   ]
  },
  {
   "cell_type": "code",
   "execution_count": 59,
   "metadata": {},
   "outputs": [],
   "source": [
    "cv_score, holdout_score = model_assessment(svm_grid_searcher2.best_estimator_, \n",
    "                 os.path.join(PATH_TO_DATA, 'week2/files/X_sparse_10users_s15_w5.pkl'),\n",
    "        os.path.join(PATH_TO_DATA, 'week2/files/y_10users_s15_w5.pkl'), skf, random_state=17, test_size=0.3)"
   ]
  },
  {
   "cell_type": "code",
   "execution_count": 60,
   "metadata": {},
   "outputs": [
    {
     "name": "stdout",
     "output_type": "stream",
     "text": [
      "Доля правильных ответов на 3-кратной кросс-валидации: 0.867036 и на отложенной выборке: 0.875296\n"
     ]
    }
   ],
   "source": [
    "print('Доля правильных ответов на 3-кратной кросс-валидации: %f и на отложенной выборке: %f' % (cv_score, holdout_score))"
   ]
  },
  {
   "cell_type": "code",
   "execution_count": 61,
   "metadata": {},
   "outputs": [],
   "source": [
    "with open('answers/answer4_5.txt', 'w') as f:\n",
    "    ans = str(round(cv_score, 3)) + ' ' + str(round(holdout_score, 3))\n",
    "    f.write(ans)"
   ]
  },
  {
   "cell_type": "markdown",
   "metadata": {},
   "source": [
    "**Прокомментируйте полученные результаты. Сравните для 150 пользователей доли правильных ответов на кросс-валидации и оставленной выборке для сочетаний параметров (*session_length, window_size*): (5,5), (7,7) и (10,10). На среднем ноуте это может занять до часа – запаситесь терпением, это Data Science :) **\n",
    "\n",
    "**Сделайте вывод о том, как качество классификации зависит от длины сессии и ширины окна.**"
   ]
  },
  {
   "cell_type": "code",
   "execution_count": 62,
   "metadata": {},
   "outputs": [
    {
     "name": "stdout",
     "output_type": "stream",
     "text": [
      "5 5 (0.4083611011164474, 0.42171606560568453)\n",
      "7 7 (0.4366487102001489, 0.45295840855673264)\n",
      "10 10 (0.46307591254574465, 0.4836276942538802)\n",
      "CPU times: user 26min 52s, sys: 2.58 s, total: 26min 54s\n",
      "Wall time: 26min 55s\n"
     ]
    }
   ],
   "source": [
    "%%time\n",
    "estimator = svm_grid_searcher2.best_estimator_\n",
    "\n",
    "for window_size, session_length in [(5,5), (7,7), (10,10)]:\n",
    "    path_to_X_pkl = os.path.join(PATH_TO_DATA, 'week2/files/X_sparse_150users_s%s_w%s.pkl') % (session_length, window_size)\n",
    "    path_to_y_pkl = os.path.join(PATH_TO_DATA, 'week2/files/y_150users_s%s_w%s.pkl') % (session_length, window_size)\n",
    "    print(window_size, session_length, model_assessment(svm_grid_searcher2.best_estimator_, \n",
    "             os.path.join(PATH_TO_DATA, path_to_X_pkl),\n",
    "    os.path.join(PATH_TO_DATA, path_to_y_pkl), skf, random_state=17, test_size=0.3))"
   ]
  },
  {
   "cell_type": "markdown",
   "metadata": {},
   "source": [
    "На выборках для 10 пользователей наилучший результат показала выборка с параметрами sesssion_length = 15, window_size = 5, а на выборках для 150 пользователей - выборка с параметрами session_length = 10, window_size=10.\n",
    "Это объясняется тем, что при увеличении объема данных для обучения, улучшается качество модели.  "
   ]
  },
  {
   "cell_type": "markdown",
   "metadata": {},
   "source": [
    "**<font color='red'>Вопрос 6. </font> Посчитайте доли правильных ответов для `LinearSVC` с настроенным параметром `C` и выборки `X_sparse_150users`. Укажите доли правильных ответов на кросс-валидации и на отложенной выборке. Округлите каждое до 3 знаков после запятой и выведите через пробел.**"
   ]
  },
  {
   "cell_type": "code",
   "execution_count": 74,
   "metadata": {},
   "outputs": [],
   "source": [
    "cv_score, holdout_score = model_assessment(svm_grid_searcher2.best_estimator_, \n",
    "                 os.path.join(PATH_TO_DATA, 'week1/files/X_sparse_150users.pkl'),\n",
    "        os.path.join(PATH_TO_DATA, 'week1/files/y_150users.pkl'), skf, random_state=17, test_size=0.3)"
   ]
  },
  {
   "cell_type": "code",
   "execution_count": 75,
   "metadata": {},
   "outputs": [
    {
     "name": "stdout",
     "output_type": "stream",
     "text": [
      "Доля правильных ответов на 3-кратной кросс-валидации: 0.463076 и на отложенной выборке: 0.483628\n"
     ]
    }
   ],
   "source": [
    "print('Доля правильных ответов на 3-кратной кросс-валидации: %f и на отложенной выборке: %f' % (cv_score, holdout_score))"
   ]
  },
  {
   "cell_type": "code",
   "execution_count": 76,
   "metadata": {},
   "outputs": [],
   "source": [
    "with open('answers/answer4_6.txt', 'w') as f:\n",
    "    ans = str(round(cv_score, 3)) + ' ' + str(round(holdout_score, 3))\n",
    "    f.write(ans)"
   ]
  },
  {
   "cell_type": "markdown",
   "metadata": {},
   "source": [
    "## Часть 3. Идентификация  конкретного пользователя и кривые обучения"
   ]
  },
  {
   "cell_type": "markdown",
   "metadata": {},
   "source": [
    "**Поскольку может разочаровать, что многоклассовая доля правильных ответов на выборке из 150 пользовалей невелика, порадуемся тому, что конкретного пользователя можно идентифицировать достаточно хорошо. **"
   ]
  },
  {
   "cell_type": "markdown",
   "metadata": {},
   "source": [
    "**Загрузим сериализованные ранее объекты *X_sparse_150users* и *y_150users*, соответствующие обучающей выборке для 150 пользователей с параметрами (*session_length, window_size*) = (10,10). Так же точно разобьем их на 70% и 30%.**"
   ]
  },
  {
   "cell_type": "code",
   "execution_count": 78,
   "metadata": {},
   "outputs": [],
   "source": [
    "with open(os.path.join(PATH_TO_DATA, 'week1/files/X_sparse_150users.pkl'), 'rb') as X_sparse_150users_pkl:\n",
    "     X_sparse_150users = pickle.load(X_sparse_150users_pkl)\n",
    "with open(os.path.join(PATH_TO_DATA, 'week1/files/y_150users.pkl'), 'rb') as y_150users_pkl:\n",
    "    y_150users = pickle.load(y_150users_pkl)"
   ]
  },
  {
   "cell_type": "code",
   "execution_count": 79,
   "metadata": {},
   "outputs": [],
   "source": [
    "X_train_150, X_valid_150, y_train_150, y_valid_150 = train_test_split(X_sparse_150users, \n",
    "                                                                      y_150users, test_size=0.3, \n",
    "                                                     random_state=17, stratify=y_150users)"
   ]
  },
  {
   "cell_type": "markdown",
   "metadata": {},
   "source": [
    "**Обучите `LogisticRegressionCV` для одного значения параметра `C` (лучшего на кросс-валидации в 1 части, используйте точное значение, не на глаз). Теперь будем решать 150 задач \"Один-против-Всех\", поэтому укажите аргумент `multi_class`='ovr'. Как всегда, где возможно, указывайте `n_jobs=-1` и `random_state`=17.**"
   ]
  },
  {
   "cell_type": "code",
   "execution_count": 80,
   "metadata": {},
   "outputs": [
    {
     "name": "stdout",
     "output_type": "stream",
     "text": [
      "CPU times: user 56min 48s, sys: 58.6 s, total: 57min 47s\n",
      "Wall time: 14min 39s\n"
     ]
    },
    {
     "data": {
      "text/plain": [
       "LogisticRegressionCV(Cs=[3.7315789473684213], class_weight=None,\n",
       "                     cv=StratifiedKFold(n_splits=3, random_state=17, shuffle=True),\n",
       "                     dual=False, fit_intercept=True, intercept_scaling=1.0,\n",
       "                     l1_ratios=None, max_iter=100, multi_class='ovr',\n",
       "                     n_jobs=None, penalty='l2', random_state=17, refit=True,\n",
       "                     scoring=None, solver='lbfgs', tol=0.0001, verbose=0)"
      ]
     },
     "execution_count": 80,
     "metadata": {},
     "output_type": "execute_result"
    }
   ],
   "source": [
    "%%time\n",
    "logit_cv_150users = LogisticRegressionCV(Cs=[logit_grid_searcher2.Cs_[10]], multi_class='ovr', random_state=17, cv=skf)\n",
    "logit_cv_150users.fit(X_train_150, y_train_150)"
   ]
  },
  {
   "cell_type": "markdown",
   "metadata": {},
   "source": [
    "**Посмотрите на средние доли правильных ответов на кросс-валидации в задаче идентификации каждого пользователя по отдельности.**"
   ]
  },
  {
   "cell_type": "code",
   "execution_count": 81,
   "metadata": {},
   "outputs": [
    {
     "name": "stdout",
     "output_type": "stream",
     "text": [
      "User 6, CV score: 0.9961110589805345\n",
      "User 13, CV score: 0.9963612857485429\n",
      "User 15, CV score: 0.9952769697538395\n",
      "User 16, CV score: 0.9917946472323876\n",
      "User 28, CV score: 0.9903558433163387\n",
      "User 31, CV score: 0.9941718015284685\n",
      "User 33, CV score: 0.9937234785691199\n",
      "User 39, CV score: 0.9858309092615182\n",
      "User 46, CV score: 0.9979669075099308\n",
      "User 49, CV score: 0.9953082480998404\n",
      "User 50, CV score: 0.994286488797139\n",
      "User 53, CV score: 0.993587939069782\n",
      "User 65, CV score: 0.9968825915152273\n",
      "User 66, CV score: 0.9947869423331562\n",
      "User 82, CV score: 0.9963195812872083\n",
      "User 85, CV score: 0.9963821379792104\n",
      "User 89, CV score: 0.9907103312376843\n",
      "User 92, CV score: 0.9944011760658097\n",
      "User 100, CV score: 0.9944428805271444\n",
      "User 102, CV score: 0.9912003586583675\n",
      "User 103, CV score: 0.9806491299406753\n",
      "User 105, CV score: 0.9969451482072295\n",
      "User 106, CV score: 0.9948390729098245\n",
      "User 118, CV score: 0.9910022624670275\n",
      "User 119, CV score: 0.9965802341705503\n",
      "User 120, CV score: 0.9943177671431401\n",
      "User 126, CV score: 0.9950475952164983\n",
      "User 127, CV score: 0.9915965510410475\n",
      "User 128, CV score: 0.9846214798828105\n",
      "User 138, CV score: 0.9969764265532305\n",
      "User 158, CV score: 0.9970494093605663\n",
      "User 160, CV score: 0.9967887564772241\n",
      "User 165, CV score: 0.9973309144745759\n",
      "User 172, CV score: 0.9964968252478809\n",
      "User 177, CV score: 0.9967574781312231\n",
      "User 203, CV score: 0.9976332718192529\n",
      "User 207, CV score: 0.987947410674257\n",
      "User 223, CV score: 0.9964759730172136\n",
      "User 233, CV score: 0.9963508596332092\n",
      "User 235, CV score: 0.9965802341705504\n",
      "User 236, CV score: 0.9899075203569901\n",
      "User 237, CV score: 0.9894591973976415\n",
      "User 238, CV score: 0.996163189557203\n",
      "User 240, CV score: 0.9956106054445174\n",
      "User 241, CV score: 0.9959442411351954\n",
      "User 242, CV score: 0.9951831347158362\n",
      "User 245, CV score: 0.9960693545191996\n",
      "User 246, CV score: 0.9969555743225632\n",
      "User 249, CV score: 0.9949329079478276\n",
      "User 252, CV score: 0.996361285748543\n",
      "User 254, CV score: 0.9920970045770646\n",
      "User 256, CV score: 0.9959859455965302\n",
      "User 258, CV score: 0.9959129627891944\n",
      "User 259, CV score: 0.9949016296018267\n",
      "User 260, CV score: 0.997299636128575\n",
      "User 261, CV score: 0.9898449636649881\n",
      "User 263, CV score: 0.9928268326504228\n",
      "User 264, CV score: 0.9965489558245494\n",
      "User 269, CV score: 0.9869777819482239\n",
      "User 270, CV score: 0.9894904757436427\n",
      "User 273, CV score: 0.9943281932584739\n",
      "User 287, CV score: 0.9899492248183249\n",
      "User 294, CV score: 0.9955793270985164\n",
      "User 298, CV score: 0.9912629153503696\n",
      "User 301, CV score: 0.9972683577825738\n",
      "User 308, CV score: 0.9956314576751849\n",
      "User 315, CV score: 0.997497732319915\n",
      "User 318, CV score: 0.9958399799818585\n",
      "User 327, CV score: 0.9965906602858841\n",
      "User 332, CV score: 0.9967053475545548\n",
      "User 333, CV score: 0.9962465984798724\n",
      "User 339, CV score: 0.9970806877065673\n",
      "User 340, CV score: 0.9966323647472187\n",
      "User 342, CV score: 0.9923055268837384\n",
      "User 344, CV score: 0.9965698080552167\n",
      "User 351, CV score: 0.9923472313450731\n",
      "User 356, CV score: 0.9976124195885855\n",
      "User 361, CV score: 0.9964863991325471\n",
      "User 363, CV score: 0.9965072513632146\n",
      "User 411, CV score: 0.9912316370043687\n",
      "User 417, CV score: 0.9966532169778862\n",
      "User 425, CV score: 0.9941613754131348\n",
      "User 430, CV score: 0.9961944679032039\n",
      "User 435, CV score: 0.9969451482072295\n",
      "User 436, CV score: 0.9951727086005026\n",
      "User 440, CV score: 0.9969660004378968\n",
      "User 444, CV score: 0.997893924702595\n",
      "User 475, CV score: 0.9891672661682983\n",
      "User 476, CV score: 0.9970494093605664\n",
      "User 486, CV score: 0.9954020831378436\n",
      "User 515, CV score: 0.9941196709518\n",
      "User 533, CV score: 0.9938590180684579\n",
      "User 561, CV score: 0.9843608269994683\n",
      "User 563, CV score: 0.9967574781312231\n",
      "User 564, CV score: 0.995725292713188\n",
      "User 568, CV score: 0.991648681617716\n",
      "User 569, CV score: 0.9893340840136373\n",
      "User 570, CV score: 0.9982379865086067\n",
      "User 573, CV score: 0.9905747917383462\n",
      "User 575, CV score: 0.990043059856328\n",
      "User 576, CV score: 0.9940779664904653\n",
      "User 580, CV score: 0.9866128679115448\n",
      "User 583, CV score: 0.9808680783626827\n",
      "User 584, CV score: 0.9810557484386893\n",
      "User 600, CV score: 0.9915027160030444\n",
      "User 603, CV score: 0.9956835882518532\n",
      "User 605, CV score: 0.9975498628965833\n",
      "User 640, CV score: 0.9972058010905717\n",
      "User 647, CV score: 0.9977166807419223\n",
      "User 653, CV score: 0.9973830450512443\n",
      "User 664, CV score: 0.9951414302545015\n",
      "User 665, CV score: 0.9968096087078915\n",
      "User 677, CV score: 0.9965176774785482\n",
      "User 692, CV score: 0.996893017630561\n",
      "User 697, CV score: 0.9958816844431934\n",
      "User 705, CV score: 0.996423842440545\n",
      "User 722, CV score: 0.9946931072951529\n",
      "User 740, CV score: 0.9966219386318852\n",
      "User 741, CV score: 0.9967157736698883\n",
      "User 756, CV score: 0.9956627360211859\n",
      "User 780, CV score: 0.9964759730172136\n",
      "User 784, CV score: 0.9966010864012178\n",
      "User 785, CV score: 0.9968096087078915\n",
      "User 797, CV score: 0.9957252927131881\n",
      "User 812, CV score: 0.9948286467944909\n",
      "User 844, CV score: 0.9970806877065673\n",
      "User 859, CV score: 0.9982067081626057\n",
      "User 868, CV score: 0.9964551207865462\n",
      "User 875, CV score: 0.9957357188285217\n",
      "User 932, CV score: 0.9904705305850093\n",
      "User 996, CV score: 0.9934523995704442\n",
      "User 1014, CV score: 0.9972370794365727\n",
      "User 1040, CV score: 0.9970598354759\n",
      "User 1054, CV score: 0.9964342685558787\n",
      "User 1248, CV score: 0.997800089664592\n",
      "User 1267, CV score: 0.9973309144745759\n",
      "User 1299, CV score: 0.9969347220918957\n",
      "User 1371, CV score: 0.9934106951091093\n",
      "User 1797, CV score: 0.9951101519085004\n",
      "User 1798, CV score: 0.9966323647472187\n",
      "User 1993, CV score: 0.9969034437458948\n",
      "User 2118, CV score: 0.9978730724719277\n",
      "User 2174, CV score: 0.9958399799818585\n",
      "User 2191, CV score: 0.9952456914078384\n",
      "User 2250, CV score: 0.9972683577825737\n",
      "User 2355, CV score: 0.9958816844431934\n",
      "User 2408, CV score: 0.9937026263384525\n",
      "User 2493, CV score: 0.9966532169778862\n",
      "User 2625, CV score: 0.9961840417878703\n",
      "User 2902, CV score: 0.9971640966292369\n"
     ]
    }
   ],
   "source": [
    "cv_scores_by_user = logit_cv_150users.scores_\n",
    "for user_id in logit_cv_150users.scores_:\n",
    "    print('User {}, CV score: {}'.format(user_id, cv_scores_by_user[user_id].mean()))"
   ]
  },
  {
   "cell_type": "markdown",
   "metadata": {},
   "source": [
    "**Результаты кажутся впечатляющими, но возможно, мы забываем про дисбаланс классов, и высокую долю правильных ответов можно получить константным прогнозом. Посчитайте для каждого пользователя разницу между долей правильных ответов на кросс-валидации (только что посчитанную с помощью `LogisticRegressionCV`) и долей меток в *y_train_150*, отличных от ID \n",
    " этого пользователя (именно такую долю правильных ответов можно получить, если классификатор всегда \"говорит\", что это не пользователь с номером $i$ в задаче классификации $i$-vs-All).**"
   ]
  },
  {
   "cell_type": "code",
   "execution_count": 82,
   "metadata": {},
   "outputs": [
    {
     "name": "stdout",
     "output_type": "stream",
     "text": [
      "0.984402531460803\n",
      "User: 6 difference: 0.011708527519731504\n",
      "0.9957044404825206\n",
      "User: 13 difference: 0.0006568452660222768\n",
      "0.9944011760658097\n",
      "User: 15 difference: 0.0008757936880298134\n",
      "0.9847153149208137\n",
      "User: 16 difference: 0.007079332311573983\n",
      "0.9879474106742568\n",
      "User: 28 difference: 0.0024084326420819036\n",
      "0.9944533066424781\n",
      "User: 31 difference: -0.00028150511400959477\n",
      "0.9925453275364132\n",
      "User: 33 difference: 0.0011781510327066869\n",
      "0.9839125040401197\n",
      "User: 39 difference: 0.0019184052213985225\n",
      "0.9971223921679022\n",
      "User: 46 difference: 0.0008445153420285623\n",
      "0.9938277397224569\n",
      "User: 49 difference: 0.0014805083773835603\n",
      "0.9941509492978011\n",
      "User: 50 difference: 0.0001355394993378667\n",
      "0.9920448740003962\n",
      "User: 53 difference: 0.0015430650693858405\n",
      "0.9969242959765621\n",
      "User: 65 difference: -4.170446133477945e-05\n",
      "0.9948599251404919\n",
      "User: 66 difference: -7.298280733569751e-05\n",
      "0.9963508596332092\n",
      "User: 82 difference: -3.1278346000918056e-05\n",
      "0.996194467903204\n",
      "User: 85 difference: 0.0001876700760063965\n",
      "0.9900743382023292\n",
      "User: 89 difference: 0.0006359930353551091\n",
      "0.9941509492978011\n",
      "User: 92 difference: 0.0002502267680085657\n",
      "0.9947452378718213\n",
      "User: 100 difference: -0.0003023573446769845\n",
      "0.9904392522390083\n",
      "User: 102 difference: 0.0007611064193592254\n",
      "0.9769999895738847\n",
      "User: 103 difference: 0.0036491403667906486\n",
      "0.9960172239425312\n",
      "User: 105 difference: 0.0009279242646982322\n",
      "0.9872175826008988\n",
      "User: 106 difference: 0.007621490308925782\n",
      "0.9900013553949933\n",
      "User: 118 difference: 0.0010009070720341517\n",
      "0.9959442411351954\n",
      "User: 119 difference: 0.000635993035354887\n",
      "0.9936609218771179\n",
      "User: 120 difference: 0.0006568452660222768\n",
      "0.9940571142597979\n",
      "User: 126 difference: 0.0009904809567004014\n",
      "0.987509513830242\n",
      "User: 127 difference: 0.0040870372108055\n",
      "0.979596092291973\n",
      "User: 128 difference: 0.005025387590837482\n",
      "0.9971119660525685\n",
      "User: 138 difference: -0.0001355394993379777\n",
      "0.9967783303618905\n",
      "User: 158 difference: 0.0002710789986758444\n",
      "0.9965385297092156\n",
      "User: 160 difference: 0.00025022676800845467\n",
      "0.9970806877065674\n",
      "User: 165 difference: 0.00025022676800845467\n",
      "0.996257024595206\n",
      "User: 172 difference: 0.00023980065267481532\n",
      "0.9964968252478809\n",
      "User: 177 difference: 0.00026065288334220504\n",
      "0.9961840417878702\n",
      "User: 203 difference: 0.0014492300313826423\n",
      "0.9863626411435363\n",
      "User: 207 difference: 0.00158476953072062\n",
      "0.9964655469018798\n",
      "User: 223 difference: 1.0426115333750374e-05\n",
      "0.9962361723645387\n",
      "User: 233 difference: 0.00011468726867058798\n",
      "0.9967470520158894\n",
      "User: 235 difference: -0.0001668178453390068\n",
      "0.9887814999009519\n",
      "User: 236 difference: 0.001126020456038268\n",
      "0.988009967366259\n",
      "User: 237 difference: 0.0014492300313825313\n",
      "0.9962674507105398\n",
      "User: 238 difference: -0.00010426115333683761\n",
      "0.9957774232898564\n",
      "User: 240 difference: -0.0001668178453390068\n",
      "0.9961006328652008\n",
      "User: 241 difference: -0.00015639173000536744\n",
      "0.9946618289491518\n",
      "User: 242 difference: 0.0005213057666844101\n",
      "0.9957669971745228\n",
      "User: 245 difference: 0.0003023573446768735\n",
      "0.9971223921679022\n",
      "User: 246 difference: -0.0001668178453390068\n",
      "0.9950997257931667\n",
      "User: 249 difference: -0.0001668178453391178\n",
      "0.9962987290565408\n",
      "User: 252 difference: 6.255669200216918e-05\n",
      "0.9899179464723239\n",
      "User: 254 difference: 0.0021790581047407276\n",
      "0.995558474867849\n",
      "User: 256 difference: 0.00042747072868121183\n",
      "0.995756571059189\n",
      "User: 258 difference: 0.00015639173000536744\n",
      "0.9951831347158362\n",
      "User: 259 difference: -0.00028150511400948375\n",
      "0.9970806877065674\n",
      "User: 260 difference: 0.00021894842200753661\n",
      "0.9891047094762963\n",
      "User: 261 difference: 0.0007402541886918357\n",
      "0.9915965510410476\n",
      "User: 263 difference: 0.0012302816093752167\n",
      "0.9962048940185376\n",
      "User: 264 difference: 0.00034406180601176395\n",
      "0.9857475003388487\n",
      "User: 269 difference: 0.0012302816093752167\n",
      "0.9851219334188275\n",
      "User: 270 difference: 0.0043685423248152055\n",
      "0.9937339046844537\n",
      "User: 273 difference: 0.0005942885740202186\n",
      "0.9882393419036002\n",
      "User: 287 difference: 0.0017098829147247363\n",
      "0.9959546672505292\n",
      "User: 294 difference: -0.000375340152012793\n",
      "0.9897719808576523\n",
      "User: 298 difference: 0.0014909344927173107\n",
      "0.9954750659451795\n",
      "User: 301 difference: 0.0017932918373942952\n",
      "0.9949746124091625\n",
      "User: 308 difference: 0.0006568452660223878\n",
      "0.9971119660525685\n",
      "User: 315 difference: 0.0003857662673465434\n",
      "0.9953395264458416\n",
      "User: 318 difference: 0.0005004535360169093\n",
      "0.9966323647472188\n",
      "User: 327 difference: -4.170446133477945e-05\n",
      "0.9968200348232252\n",
      "User: 332 difference: -0.00011468726867047696\n",
      "0.9949746124091625\n",
      "User: 333 difference: 0.0012719860707098851\n",
      "0.995923388904528\n",
      "User: 339 difference: 0.0011572988020392971\n",
      "0.9965072513632146\n",
      "User: 340 difference: 0.0001251133840041163\n",
      "0.9919093345010582\n",
      "User: 342 difference: 0.00039619238268018275\n",
      "0.9967783303618905\n",
      "User: 344 difference: -0.00020852230667378624\n",
      "0.9910335408130285\n",
      "User: 351 difference: 0.0013136905320445535\n",
      "0.9972162272059053\n",
      "User: 356 difference: 0.00039619238268018275\n",
      "0.9966323647472188\n",
      "User: 361 difference: -0.00014596561467172808\n",
      "0.9952978219845068\n",
      "User: 363 difference: 0.001209429378707827\n",
      "0.9892298228603005\n",
      "User: 411 difference: 0.0020018141440681925\n",
      "0.9966323647472188\n",
      "User: 417 difference: 2.0852230667389726e-05\n",
      "0.9941613754131349\n",
      "User: 425 difference: -1.1102230246251565e-16\n",
      "0.9952456914078384\n",
      "User: 430 difference: 0.0009487764953655109\n",
      "0.9971536705139032\n",
      "User: 435 difference: -0.00020852230667378624\n",
      "0.9950163168704972\n",
      "User: 436 difference: 0.00015639173000536744\n",
      "0.9970911138219011\n",
      "User: 440 difference: -0.00012511338400422733\n",
      "0.9970181310145653\n",
      "User: 444 difference: 0.0008757936880297024\n",
      "0.9879891151355916\n",
      "User: 475 difference: 0.0011781510327066869\n",
      "0.9961319112112018\n",
      "User: 476 difference: 0.0009174981493645928\n",
      "0.9952456914078384\n",
      "User: 486 difference: 0.0001563917300052564\n",
      "0.9939841314524621\n",
      "User: 515 difference: 0.0001355394993378667\n",
      "0.9926391625744164\n",
      "User: 533 difference: 0.0012198554940414663\n",
      "0.9809723395160197\n",
      "User: 561 difference: 0.0033884874834485545\n",
      "0.9963091551718745\n",
      "User: 563 difference: 0.00044832295934860156\n",
      "0.9951310041391678\n",
      "User: 564 difference: 0.0005942885740202186\n",
      "0.9918259255783888\n",
      "User: 568 difference: -0.00017724396067275716\n",
      "0.9850489506114917\n",
      "User: 569 difference: 0.004285133402145647\n",
      "0.9957044404825206\n",
      "User: 570 difference: 0.002533546026086131\n",
      "0.9909605580056926\n",
      "User: 573 difference: -0.0003857662673464324\n",
      "0.9886042559402792\n",
      "User: 575 difference: 0.0014388039160487809\n",
      "0.9943907499504759\n",
      "User: 576 difference: -0.00031278346001062385\n",
      "0.9804823120953364\n",
      "User: 580 difference: 0.006130555816208361\n",
      "0.9660421423581788\n",
      "User: 583 difference: 0.014825936004503992\n",
      "0.9784387934899336\n",
      "User: 584 difference: 0.00261695494875569\n",
      "0.9905956439690136\n",
      "User: 600 difference: 0.0009070720340308425\n",
      "0.995058021331832\n",
      "User: 603 difference: 0.0006255669200212477\n",
      "0.9950684474471657\n",
      "User: 605 difference: 0.002481415449417601\n",
      "0.9970389832452327\n",
      "User: 640 difference: 0.0001668178453390068\n",
      "0.9960172239425312\n",
      "User: 647 difference: 0.001699456799391097\n",
      "0.9972475055519064\n",
      "User: 653 difference: 0.0001355394993378667\n",
      "0.9945784200264823\n",
      "User: 664 difference: 0.0005630102280191895\n",
      "0.9966740692085536\n",
      "User: 665 difference: 0.0001355394993378667\n",
      "0.9959025366738606\n",
      "User: 677 difference: 0.0006151408046876083\n",
      "0.9968721653998937\n",
      "User: 692 difference: 2.0852230667389726e-05\n",
      "0.9952456914078384\n",
      "User: 697 difference: 0.0006359930353549981\n",
      "0.9961840417878702\n",
      "User: 705 difference: 0.00023980065267481532\n",
      "0.9936192174157831\n",
      "User: 722 difference: 0.0010738898793698493\n",
      "0.995860832212526\n",
      "User: 740 difference: 0.0007611064193592254\n",
      "0.9967783303618905\n",
      "User: 741 difference: -6.255669200216918e-05\n",
      "0.9953082480998405\n",
      "User: 756 difference: 0.0003544879213454033\n",
      "0.9957669971745228\n",
      "User: 780 difference: 0.0007089758426908066\n",
      "0.9949537601784951\n",
      "User: 784 difference: 0.0016473262227226781\n",
      "0.9970389832452327\n",
      "User: 785 difference: -0.00022937453734117597\n",
      "0.9952144130618373\n",
      "User: 797 difference: 0.0005108796513507707\n",
      "0.9895009018589763\n",
      "User: 812 difference: 0.005327744935514578\n",
      "0.9969660004378968\n",
      "User: 844 difference: 0.00011468726867047696\n",
      "0.9969138698612284\n",
      "User: 859 difference: 0.0012928383013772748\n",
      "0.9967783303618905\n",
      "User: 868 difference: -0.0003232095753442632\n",
      "0.9901368948943313\n",
      "User: 875 difference: 0.005598823934190422\n",
      "0.9881038024042622\n",
      "User: 932 difference: 0.002366728180747124\n",
      "0.990480956700343\n",
      "User: 996 difference: 0.002971442870101204\n",
      "0.9957878494051902\n",
      "User: 1014 difference: 0.0014492300313825313\n",
      "0.9951727086005026\n",
      "User: 1040 difference: 0.0018871268753974935\n",
      "0.9963508596332092\n",
      "User: 1054 difference: 8.340892266944788e-05\n",
      "0.9973309144745759\n",
      "User: 1248 difference: 0.0004691751900161023\n",
      "0.9969972787838979\n",
      "User: 1267 difference: 0.0003336356906780136\n",
      "0.9968304609385589\n",
      "User: 1299 difference: 0.00010426115333683761\n",
      "0.9887293693242835\n",
      "User: 1371 difference: 0.004681325784825829\n",
      "0.9917425166557192\n",
      "User: 1797 difference: 0.003367635252781165\n",
      "0.9954333614838448\n",
      "User: 1798 difference: 0.0011990032633739656\n",
      "0.995923388904528\n",
      "User: 1993 difference: 0.000980054841366762\n",
      "0.9963404335178756\n",
      "User: 2118 difference: 0.0015326389540520902\n",
      "0.9953499525611752\n",
      "User: 2174 difference: 0.00049002742068327\n",
      "0.9948286467944908\n",
      "User: 2191 difference: 0.0004170446133475725\n",
      "0.9974351756279128\n",
      "User: 2250 difference: -0.0001668178453391178\n",
      "0.9874365310229062\n",
      "User: 2355 difference: 0.008445153420287177\n",
      "0.992420214152409\n",
      "User: 2408 difference: 0.0012824121860435245\n",
      "0.9963091551718745\n",
      "User: 2493 difference: 0.00034406180601176395\n",
      "0.9954646398298458\n",
      "User: 2625 difference: 0.000719401958024557\n",
      "0.9950475952164983\n",
      "User: 2902 difference: 0.0021165014127385584\n"
     ]
    }
   ],
   "source": [
    "class_distr = np.bincount(y_train_150.astype('int'))\n",
    "acc_diff_vs_constant = []\n",
    "for user_id in np.unique(y_train_150):\n",
    "    val = (class_distr.sum() - class_distr[user_id])/class_distr.sum()\n",
    "    print(val)\n",
    "    acc_diff_vs_constant.append(cv_scores_by_user[user_id].mean() - val)\n",
    "    print(\"User: {} difference: {}\".format(user_id, cv_scores_by_user[user_id].mean() -\\\n",
    "                                       val))"
   ]
  },
  {
   "cell_type": "code",
   "execution_count": 84,
   "metadata": {},
   "outputs": [],
   "source": [
    "num_better_than_default = (np.array(acc_diff_vs_constant) > 0).sum()"
   ]
  },
  {
   "cell_type": "code",
   "execution_count": 85,
   "metadata": {},
   "outputs": [
    {
     "data": {
      "text/plain": [
       "122"
      ]
     },
     "execution_count": 85,
     "metadata": {},
     "output_type": "execute_result"
    }
   ],
   "source": [
    "num_better_than_default"
   ]
  },
  {
   "cell_type": "code",
   "execution_count": 89,
   "metadata": {},
   "outputs": [
    {
     "name": "stdout",
     "output_type": "stream",
     "text": [
      "Доля пользователей, для которых логистическая регрессия на кросс-валидации дает прогноз лучше константного: 0.813\n"
     ]
    }
   ],
   "source": [
    "print('Доля пользователей, для которых логистическая регрессия на кросс-валидации дает прогноз лучше константного: %s' % round((num_better_than_default / 150), 3))"
   ]
  },
  {
   "cell_type": "markdown",
   "metadata": {},
   "source": [
    "**<font color='red'>Вопрос 7. </font> Посчитайте долю пользователей, для которых логистическая регрессия на кросс-валидации дает прогноз лучше константного. Округлите до 3 знаков после запятой.**"
   ]
  },
  {
   "cell_type": "code",
   "execution_count": 90,
   "metadata": {},
   "outputs": [],
   "source": [
    "with open('answers/answer4_7.txt', 'w') as f:\n",
    "    ans = str(round(num_better_than_default / len(cv_scores_by_user), 3))\n",
    "    f.write(ans)"
   ]
  },
  {
   "cell_type": "markdown",
   "metadata": {},
   "source": [
    "**Дальше будем строить кривые обучения для конкретного пользователя, допустим, для 128-го. Составьте новый бинарный вектор на основе *y_150users*, его значения будут 1 или 0 в зависимости от того, равен ли ID-шник пользователя 128.**"
   ]
  },
  {
   "cell_type": "code",
   "execution_count": 91,
   "metadata": {},
   "outputs": [],
   "source": [
    "y_binary_128 = (y_train_150==128)*1"
   ]
  },
  {
   "cell_type": "code",
   "execution_count": 92,
   "metadata": {},
   "outputs": [],
   "source": [
    "from sklearn.model_selection import learning_curve\n",
    "\n",
    "def plot_learning_curve(val_train, val_test, train_sizes, \n",
    "                        xlabel='Training Set Size', ylabel='score'):\n",
    "    def plot_with_err(x, data, **kwargs):\n",
    "        mu, std = data.mean(1), data.std(1)\n",
    "        lines = plt.plot(x, mu, '-', **kwargs)\n",
    "        plt.fill_between(x, mu - std, mu + std, edgecolor='none',\n",
    "                         facecolor=lines[0].get_color(), alpha=0.2)\n",
    "    plot_with_err(train_sizes, val_train, label='train')\n",
    "    plot_with_err(train_sizes, val_test, label='valid')\n",
    "    plt.xlabel(xlabel); plt.ylabel(ylabel)\n",
    "    plt.legend(loc='lower right');"
   ]
  },
  {
   "cell_type": "markdown",
   "metadata": {},
   "source": [
    "**Посчитайте доли правильных ответов на кросс-валидации в задаче классификации \"user128-vs-All\" в зависимости от размера выборки. Не помешает посмотреть встроенную документацию для *learning_curve*.**"
   ]
  },
  {
   "cell_type": "code",
   "execution_count": 93,
   "metadata": {},
   "outputs": [
    {
     "name": "stdout",
     "output_type": "stream",
     "text": [
      "CPU times: user 13.7 s, sys: 56 ms, total: 13.8 s\n",
      "Wall time: 13.8 s\n"
     ]
    }
   ],
   "source": [
    "%%time\n",
    "train_sizes = np.linspace(0.25, 1, 20)\n",
    "estimator = svm_grid_searcher2.best_estimator_\n",
    "n_train, val_train, val_test = learning_curve(estimator, X_train_150, y_binary_128, train_sizes=train_sizes, cv=skf)"
   ]
  },
  {
   "cell_type": "code",
   "execution_count": 94,
   "metadata": {},
   "outputs": [
    {
     "data": {
      "image/png": "[encoded data removed]",
      "text/plain": [
       "<Figure size 432x288 with 1 Axes>"
      ]
     },
     "metadata": {
      "needs_background": "light"
     },
     "output_type": "display_data"
    }
   ],
   "source": [
    "plot_learning_curve(val_train, val_test, n_train, \n",
    "                    xlabel='train_size', ylabel='accuracy')"
   ]
  },
  {
   "cell_type": "markdown",
   "metadata": {},
   "source": [
    "Как мы видим на графике с ростом размера выборки увеличивается качество предсказания, но лишь до определенного момента. Дальнейшее увеличение размера выборки кажется бессмысленным."
   ]
  },
  {
   "cell_type": "markdown",
   "metadata": {},
   "source": [
    "**Сделайте выводы о том, помогут ли алгоритму новые размеченные данные при той же постановке задачи.**"
   ]
  },
  {
   "cell_type": "markdown",
   "metadata": {},
   "source": [
    "## Пути улучшения\n",
    "- конечно, можно проверить еще кучу алгоритмов, например, Xgboost, но в такой задаче очень маловероятно, что что-то справится лучше линейных методов\n",
    "- интересно проверить качество алгоритма на данных, где сессии выделялись не по количеству посещенных сайтов, а по времени, например, 5, 7, 10 и 15 минут. Отдельно стоит отметить данные нашего [соревнования](https://inclass.kaggle.com/c/catch-me-if-you-can-intruder-detection-through-webpage-session-tracking2) \n",
    "- опять же, если ресурсы позволяют, можно проверить, насколько хорошо можно решить задачу для 3000 пользователей\n",
    "\n",
    "\n",
    "На следующей неделе мы вспомним про линейные модели, обучаемые стохастическим градиентным спуском, и порадуемся тому, насколько быстрее они работают. Также сделаем первые (или не первые) посылки в [соревновании](https://inclass.kaggle.com/c/catch-me-if-you-can-intruder-detection-through-webpage-session-tracking2) Kaggle Inclass."
   ]
  }
 ],
 "metadata": {
  "anaconda-cloud": {},
  "kernelspec": {
   "display_name": "Python 3",
   "language": "python",
   "name": "python3"
  },
  "language_info": {
   "codemirror_mode": {
    "name": "ipython",
    "version": 3
   },
   "file_extension": ".py",
   "mimetype": "text/x-python",
   "name": "python",
   "nbconvert_exporter": "python",
   "pygments_lexer": "ipython3",
   "version": "3.7.6"
  }
 },
 "nbformat": 4,
 "nbformat_minor": 1
}
